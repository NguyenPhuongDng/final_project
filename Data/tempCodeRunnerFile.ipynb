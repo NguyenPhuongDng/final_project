row_to_drop = df_full_post[(df_full_post["time"].dt.day == 19) & (df_full_post["time"].dt.month == 11)]
df_full_post.drop(row_to_drop, inplace=True)